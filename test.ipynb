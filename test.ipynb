{
 "cells": [
  {
   "cell_type": "code",
   "execution_count": null,
   "metadata": {},
   "outputs": [],
   "source": [
    "from autologic import reasoningEngine\n",
    "\n",
    "llmConfig = reasoningEngine.LLMConfig(\n",
    "    model_type = reasoningEngine.ModelType.OPENAI,\n",
    "    model_name = \"GPT4\", # You can use any model name available to you through openai - omitting the model_name will default to gpt-3.5-turbo-0125\n",
    "    temp = 0.2,\n",
    "    context_length = 2000\n",
    ")\n",
    "\n",
    "problem_task = \"Beth and Sam are 500 miles apart. If Beth travels at 60mph and leaves her house at 1pm, what time will she arrive at Sam's house?\" # 9:20PM\n",
    "\n",
    "answer = reasoningEngine.solve(task = problem_task,verbose=False,discover_config=llmConfig, print_in_out=True)"
   ]
  }
 ],
 "metadata": {
  "kernelspec": {
   "display_name": "bian",
   "language": "python",
   "name": "python3"
  },
  "language_info": {
   "codemirror_mode": {
    "name": "ipython",
    "version": 3
   },
   "file_extension": ".py",
   "mimetype": "text/x-python",
   "name": "python",
   "nbconvert_exporter": "python",
   "pygments_lexer": "ipython3",
   "version": "3.9.18"
  }
 },
 "nbformat": 4,
 "nbformat_minor": 2
}
